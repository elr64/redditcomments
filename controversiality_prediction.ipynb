{
 "cells": [
  {
   "cell_type": "code",
   "execution_count": 1,
   "metadata": {},
   "outputs": [],
   "source": [
    "#import findspark and initiate\n",
    "import findspark\n",
    "findspark.init()"
   ]
  },
  {
   "cell_type": "code",
   "execution_count": 3,
   "metadata": {},
   "outputs": [],
   "source": [
    "#create SparkSession using pyspark configuration\n",
    "import pyspark\n",
    "from pyspark.sql import SparkSession\n",
    "conf = pyspark.SparkConf()\n",
    "spark = SparkSession.builder.appName(\"project\").config(conf = conf).getOrCreate()\n",
    "spark\n",
    "sc=spark.sparkContext"
   ]
  },
  {
   "cell_type": "code",
   "execution_count": 4,
   "metadata": {},
   "outputs": [],
   "source": [
    "#read in merged dataset\n",
    "df=spark.read.parquet(\"hdfs://ip-172-31-74-188.ec2.internal:8020/user/hadoop/df\")"
   ]
  },
  {
   "cell_type": "code",
   "execution_count": 6,
   "metadata": {},
   "outputs": [],
   "source": [
    "#covert controversiality into double, since it is label and either 0 or 1\n",
    "from pyspark.sql.functions import col\n",
    "from pyspark.sql.types import DoubleType\n",
    "\n",
    "df=df.withColumn('controversiality', col('controversiality').cast(DoubleType()))"
   ]
  },
  {
   "cell_type": "code",
   "execution_count": 7,
   "metadata": {},
   "outputs": [],
   "source": [
    "#split data into training and testing\n",
    "split_data = df.randomSplit([0.7, 0.3])\n",
    "train_data = split_data[0]\n",
    "test_data = split_data[1]"
   ]
  },
  {
   "cell_type": "code",
   "execution_count": 9,
   "metadata": {},
   "outputs": [],
   "source": [
    "#build logistic regression model to predict controversiality\n",
    "from pyspark.ml.classification import LogisticRegression\n",
    "from pyspark.ml.feature import VectorAssembler\n",
    "from pyspark.ml import Pipeline\n",
    "\n",
    "#create vectorizer that makes one column based on all predictor variables\n",
    "log_features=VectorAssembler(\n",
    "                inputCols=[\"authorindex\", \n",
    "               \"subredditindex\", \n",
    "               \"parentindex\", \n",
    "               \"score\",\n",
    "              \"timeofday\"], \n",
    "                outputCol=\"features\")\n",
    "\n",
    "#define logistic regression model\n",
    "log_mod = LogisticRegression(labelCol=\"controversiality\", featuresCol=\"features\")\n",
    "\n",
    "#set up pipeline\n",
    "pipeline_log = Pipeline(stages=[log_features,\n",
    "                                log_mod])\n",
    "\n",
    "#train model using pipeline\n",
    "log_fit = pipeline_log.fit(train_data)"
   ]
  },
  {
   "cell_type": "code",
   "execution_count": 17,
   "metadata": {},
   "outputs": [
    {
     "data": {
      "text/plain": [
       "<pyspark.ml.classification.BinaryLogisticRegressionTrainingSummary at 0x7f6c9c2d8d30>"
      ]
     },
     "execution_count": 17,
     "metadata": {},
     "output_type": "execute_result"
    }
   ],
   "source": [
    "log_fit.stages[-1].summary"
   ]
  },
  {
   "cell_type": "code",
   "execution_count": 10,
   "metadata": {},
   "outputs": [],
   "source": [
    "#make predictions for testing data on logistic regression model\n",
    "logpredictions = log_fit.transform(test_data)"
   ]
  },
  {
   "cell_type": "code",
   "execution_count": 11,
   "metadata": {},
   "outputs": [
    {
     "name": "stdout",
     "output_type": "stream",
     "text": [
      "+----------------+----------+\n",
      "|controversiality|prediction|\n",
      "+----------------+----------+\n",
      "|             0.0|       0.0|\n",
      "|             0.0|       0.0|\n",
      "|             0.0|       0.0|\n",
      "|             0.0|       0.0|\n",
      "|             1.0|       0.0|\n",
      "|             0.0|       0.0|\n",
      "|             1.0|       0.0|\n",
      "|             0.0|       0.0|\n",
      "|             0.0|       0.0|\n",
      "|             0.0|       0.0|\n",
      "|             0.0|       0.0|\n",
      "|             0.0|       0.0|\n",
      "|             0.0|       0.0|\n",
      "|             0.0|       0.0|\n",
      "|             0.0|       0.0|\n",
      "|             0.0|       0.0|\n",
      "|             0.0|       0.0|\n",
      "|             0.0|       0.0|\n",
      "|             0.0|       0.0|\n",
      "|             0.0|       0.0|\n",
      "+----------------+----------+\n",
      "only showing top 20 rows\n",
      "\n"
     ]
    }
   ],
   "source": [
    "logpredictions.select(\"controversiality\", \"prediction\").show()"
   ]
  },
  {
   "cell_type": "code",
   "execution_count": 22,
   "metadata": {},
   "outputs": [
    {
     "data": {
      "text/plain": [
       "0.8699466965706979"
      ]
     },
     "execution_count": 22,
     "metadata": {},
     "output_type": "execute_result"
    }
   ],
   "source": [
    "from pyspark.ml.evaluation import BinaryClassificationEvaluator\n",
    "evaluator=BinaryClassificationEvaluator(labelCol='controversiality', rawPredictionCol=\"rawPrediction\")\n",
    "evaluator.getMetricName()\n",
    "evaluator.evaluate(logpredictions)"
   ]
  },
  {
   "cell_type": "markdown",
   "metadata": {},
   "source": [
    "The BinaryClassificationEvaluator gives us the area under the ROC for our logistic model. At approximately 87%, this tells us that the model is very good at predicting whether a comment will be controversial or not."
   ]
  },
  {
   "cell_type": "code",
   "execution_count": null,
   "metadata": {},
   "outputs": [],
   "source": []
  }
 ],
 "metadata": {
  "kernelspec": {
   "display_name": "Python 3",
   "language": "python",
   "name": "python3"
  },
  "language_info": {
   "codemirror_mode": {
    "name": "ipython",
    "version": 3
   },
   "file_extension": ".py",
   "mimetype": "text/x-python",
   "name": "python",
   "nbconvert_exporter": "python",
   "pygments_lexer": "ipython3",
   "version": "3.6.8"
  }
 },
 "nbformat": 4,
 "nbformat_minor": 2
}
