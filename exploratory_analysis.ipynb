{
 "cells": [
  {
   "cell_type": "markdown",
   "metadata": {},
   "source": [
    "# Exploratory Analysis of Reddit Comments data"
   ]
  },
  {
   "cell_type": "markdown",
   "metadata": {},
   "source": [
    "Data is a subset of the Reddit comments corpora. This notebook reads in the data, cleans it, and performs exploratory analysis."
   ]
  },
  {
   "cell_type": "code",
   "execution_count": 1,
   "metadata": {},
   "outputs": [],
   "source": [
    "# import findspark and os and let findspark find all the environment variables\n",
    "import findspark\n",
    "import os\n",
    "findspark.init()"
   ]
  },
  {
   "cell_type": "code",
   "execution_count": 2,
   "metadata": {},
   "outputs": [],
   "source": [
    "#create SparkSession using pyspark configuration\n",
    "import pyspark\n",
    "from pyspark.sql import SparkSession\n",
    "conf = pyspark.SparkConf()\n",
    "spark = SparkSession.builder.appName(\"project\").config(conf = conf).getOrCreate()\n",
    "spark\n",
    "sc=spark.sparkContext"
   ]
  },
  {
   "cell_type": "code",
   "execution_count": 3,
   "metadata": {},
   "outputs": [],
   "source": [
    "# set amazon credentials for retrieving data\n",
    "# [contains private information provided through course, not publicly available]"
   ]
  },
  {
   "cell_type": "code",
   "execution_count": 4,
   "metadata": {},
   "outputs": [],
   "source": [
    "#first read in sample data file to test analyses, once working rerun on full data\n",
    "#json_lzo = sc.newAPIHadoopFile(\"[from private files provided by professor for use in course]\",\n",
    "#                               \"com.hadoop.mapreduce.LzoTextInputFormat\", \n",
    "#                               \"org.apache.hadoop.io.LongWritable\", \n",
    "#                              \"org.apache.hadoop.io.Text\")"
   ]
  },
  {
   "cell_type": "code",
   "execution_count": 5,
   "metadata": {},
   "outputs": [
    {
     "data": {
      "text/plain": [
       "[(0,\n",
       "  '{\"archived\":false,\"author\":\"TistedLogic\",\"author_created_utc\":1312615878,\"author_flair_background_color\":null,\"author_flair_css_class\":null,\"author_flair_richtext\":[],\"author_flair_template_id\":null,\"author_flair_text\":null,\"author_flair_text_color\":null,\"author_flair_type\":\"text\",\"author_fullname\":\"t2_5mk6v\",\"author_patreon_flair\":false,\"body\":\"Is it still r\\\\/BoneAppleTea worthy if it\\'s the opposite?\",\"can_gild\":true,\"can_mod_post\":false,\"collapsed\":false,\"collapsed_reason\":null,\"controversiality\":0,\"created_utc\":1538352000,\"distinguished\":null,\"edited\":false,\"gilded\":0,\"gildings\":{\"gid_1\":0,\"gid_2\":0,\"gid_3\":0},\"id\":\"e6xucdd\",\"is_submitter\":false,\"link_id\":\"t3_9ka1hp\",\"no_follow\":true,\"parent_id\":\"t1_e6xu13x\",\"permalink\":\"\\\\/r\\\\/Unexpected\\\\/comments\\\\/9ka1hp\\\\/jesus_fking_woah\\\\/e6xucdd\\\\/\",\"removal_reason\":null,\"retrieved_on\":1539714091,\"score\":2,\"send_replies\":true,\"stickied\":false,\"subreddit\":\"Unexpected\",\"subreddit_id\":\"t5_2w67q\",\"subreddit_name_prefixed\":\"r\\\\/Unexpected\",\"subreddit_type\":\"public\"}'),\n",
       " (70130,\n",
       "  '{\"archived\":false,\"author\":\"misssaladfingers\",\"author_created_utc\":1536864574,\"author_flair_background_color\":null,\"author_flair_css_class\":null,\"author_flair_richtext\":[],\"author_flair_template_id\":null,\"author_flair_text\":null,\"author_flair_text_color\":null,\"author_flair_type\":\"text\",\"author_fullname\":\"t2_27d914lh\",\"author_patreon_flair\":false,\"body\":\"I\\'ve tried and it\\'s hit and miss. When it\\'s good I feel more rested even though I\\'ve not slept well but sometimes it doesn\\'t work\",\"can_gild\":true,\"can_mod_post\":false,\"collapsed\":false,\"collapsed_reason\":null,\"controversiality\":0,\"created_utc\":1538352000,\"distinguished\":null,\"edited\":false,\"gilded\":0,\"gildings\":{\"gid_1\":0,\"gid_2\":0,\"gid_3\":0},\"id\":\"e6xucde\",\"is_submitter\":false,\"link_id\":\"t3_9k8bp4\",\"no_follow\":true,\"parent_id\":\"t1_e6xu9sk\",\"permalink\":\"\\\\/r\\\\/insomnia\\\\/comments\\\\/9k8bp4\\\\/melatonin\\\\/e6xucde\\\\/\",\"removal_reason\":null,\"retrieved_on\":1539714091,\"score\":1,\"send_replies\":true,\"stickied\":false,\"subreddit\":\"insomnia\",\"subreddit_id\":\"t5_2qh3g\",\"subreddit_name_prefixed\":\"r\\\\/insomnia\",\"subreddit_type\":\"public\"}'),\n",
       " (70130,\n",
       "  '{\"archived\":false,\"author\":\"Increase_Vitality\",\"author_created_utc\":1467816973,\"author_flair_background_color\":null,\"author_flair_css_class\":null,\"author_flair_richtext\":[],\"author_flair_template_id\":null,\"author_flair_text\":null,\"author_flair_text_color\":null,\"author_flair_type\":\"text\",\"author_fullname\":\"t2_zai83\",\"author_patreon_flair\":false,\"body\":\"Hey that\\'s great, I mean it. \\\\n\\\\nIn the other progress pic comment section there was a Redditor who talked about posting his own progress pic six months ago and mentioned he\\'d already put it back on and was dieting again.\\\\n\\\\nI\\'m not saying this to be an asshole, but the reality is that the vast majority of people who get healthy end up putting the weight back on. Do some research and find out what a healthy relationship with food looks like (if you haven\\'t already). \\\\n\\\\nAs good as you feel now (and you\\'ve earned it), you\\'ll feel equally as depressed if you wind up taking another ride on the rolly-polly-coaster. \\\\n\\\\nFind some healthy recipes, pick up an active hobby, maybe grow your own veggie garden and you\\'ll find out junk food doesn\\'t actually taste all that good. And give yourself a break once in a while, you\\'re doing alright.\",\"can_gild\":true,\"can_mod_post\":false,\"collapsed\":false,\"collapsed_reason\":null,\"controversiality\":0,\"created_utc\":1538352000,\"distinguished\":null,\"edited\":false,\"gilded\":0,\"gildings\":{\"gid_1\":0,\"gid_2\":0,\"gid_3\":0},\"id\":\"e6xucdf\",\"is_submitter\":false,\"link_id\":\"t3_9kaitz\",\"no_follow\":false,\"parent_id\":\"t3_9kaitz\",\"permalink\":\"\\\\/r\\\\/pics\\\\/comments\\\\/9kaitz\\\\/my_weight_loss_journey_so_far_im_never_getting\\\\/e6xucdf\\\\/\",\"removal_reason\":null,\"retrieved_on\":1539714091,\"score\":37,\"send_replies\":true,\"stickied\":false,\"subreddit\":\"pics\",\"subreddit_id\":\"t5_2qh0u\",\"subreddit_name_prefixed\":\"r\\\\/pics\",\"subreddit_type\":\"public\"}'),\n",
       " (70130,\n",
       "  '{\"archived\":false,\"author\":\"volkanize\",\"author_created_utc\":1531799209,\"author_flair_background_color\":null,\"author_flair_css_class\":null,\"author_flair_richtext\":[],\"author_flair_template_id\":null,\"author_flair_text\":null,\"author_flair_text_color\":null,\"author_flair_type\":\"text\",\"author_fullname\":\"t2_1siqxwxg\",\"author_patreon_flair\":false,\"body\":\"once a guy pulled a gun on me and i ran like 300m really fast but then i stopped so i think it would help you like in a 100m sprint but not more than 300m for sure because you would run out of energy \",\"can_gild\":true,\"can_mod_post\":false,\"collapsed\":false,\"collapsed_reason\":null,\"controversiality\":0,\"created_utc\":1538352000,\"distinguished\":null,\"edited\":false,\"gilded\":0,\"gildings\":{\"gid_1\":0,\"gid_2\":0,\"gid_3\":0},\"id\":\"e6xucdg\",\"is_submitter\":false,\"link_id\":\"t3_9k6x53\",\"no_follow\":true,\"parent_id\":\"t3_9k6x53\",\"permalink\":\"\\\\/r\\\\/NoStupidQuestions\\\\/comments\\\\/9k6x53\\\\/if_im_in_a_dangerous_situation_where_i_have_to\\\\/e6xucdg\\\\/\",\"removal_reason\":null,\"retrieved_on\":1539714091,\"score\":1,\"send_replies\":true,\"stickied\":false,\"subreddit\":\"NoStupidQuestions\",\"subreddit_id\":\"t5_2w844\",\"subreddit_name_prefixed\":\"r\\\\/NoStupidQuestions\",\"subreddit_type\":\"public\"}'),\n",
       " (70130,\n",
       "  '{\"archived\":false,\"author\":\"[deleted]\",\"author_created_utc\":null,\"author_flair_background_color\":\"\",\"author_flair_css_class\":null,\"author_flair_template_id\":null,\"author_flair_text\":null,\"author_flair_text_color\":\"dark\",\"author_fullname\":null,\"body\":\"[removed]\",\"can_gild\":true,\"can_mod_post\":false,\"collapsed\":true,\"collapsed_reason\":null,\"controversiality\":0,\"created_utc\":1538352000,\"distinguished\":null,\"edited\":false,\"gilded\":0,\"gildings\":{\"gid_1\":0,\"gid_2\":0,\"gid_3\":0},\"id\":\"e6xucdh\",\"is_submitter\":false,\"link_id\":\"t3_9jwg3k\",\"no_follow\":true,\"parent_id\":\"t1_e6xuarg\",\"permalink\":\"\\\\/r\\\\/steroids\\\\/comments\\\\/9jwg3k\\\\/daily_ask_anything_20180929\\\\/e6xucdh\\\\/\",\"removal_reason\":null,\"retrieved_on\":1539714091,\"score\":1,\"send_replies\":true,\"stickied\":false,\"subreddit\":\"steroids\",\"subreddit_id\":\"t5_2rifm\",\"subreddit_name_prefixed\":\"r\\\\/steroids\",\"subreddit_type\":\"restricted\"}')]"
      ]
     },
     "execution_count": 5,
     "metadata": {},
     "output_type": "execute_result"
    }
   ],
   "source": [
    "#look at a few of the observations to get a sense of the data\n",
    "json_lzo.take(5)"
   ]
  },
  {
   "cell_type": "code",
   "execution_count": 5,
   "metadata": {},
   "outputs": [],
   "source": [
    "#Separate out fields from id\n",
    "def getfields(item):\n",
    "    label, dict = item\n",
    "    return dict\n",
    "fields=json_lzo.map(lambda l:getfields(l))"
   ]
  },
  {
   "cell_type": "code",
   "execution_count": 6,
   "metadata": {},
   "outputs": [
    {
     "data": {
      "text/plain": [
       "DataFrame[archived: boolean, author: string, author_cakeday: boolean, author_created_utc: bigint, author_flair_background_color: string, author_flair_css_class: string, author_flair_richtext: array<struct<a:string,e:string,t:string,u:string>>, author_flair_template_id: string, author_flair_text: string, author_flair_text_color: string, author_flair_type: string, author_fullname: string, author_patreon_flair: boolean, body: string, can_gild: boolean, can_mod_post: boolean, collapsed: boolean, collapsed_reason: string, controversiality: bigint, created_utc: bigint, distinguished: string, edited: string, gilded: bigint, gildings: struct<gid_1:bigint,gid_2:bigint,gid_3:bigint>, id: string, is_submitter: boolean, link_id: string, no_follow: boolean, parent_id: string, permalink: string, removal_reason: string, retrieved_on: bigint, score: bigint, send_replies: boolean, stickied: boolean, subreddit: string, subreddit_id: string, subreddit_name_prefixed: string, subreddit_type: string]"
      ]
     },
     "execution_count": 6,
     "metadata": {},
     "output_type": "execute_result"
    }
   ],
   "source": [
    "df=spark.read.json(fields)\n",
    "df.cache()"
   ]
  },
  {
   "cell_type": "code",
   "execution_count": 8,
   "metadata": {},
   "outputs": [
    {
     "name": "stdout",
     "output_type": "stream",
     "text": [
      "+--------+-----------------+--------------+------------------+-----------------------------+----------------------+---------------------+------------------------+-----------------+-----------------------+-----------------+---------------+--------------------+--------------------+--------+------------+---------+----------------+----------------+-----------+-------------+------+------+---------+-------+------------+---------+---------+----------+--------------------+--------------+------------+-----+------------+--------+-----------------+------------+-----------------------+--------------+\n",
      "|archived|           author|author_cakeday|author_created_utc|author_flair_background_color|author_flair_css_class|author_flair_richtext|author_flair_template_id|author_flair_text|author_flair_text_color|author_flair_type|author_fullname|author_patreon_flair|                body|can_gild|can_mod_post|collapsed|collapsed_reason|controversiality|created_utc|distinguished|edited|gilded| gildings|     id|is_submitter|  link_id|no_follow| parent_id|           permalink|removal_reason|retrieved_on|score|send_replies|stickied|        subreddit|subreddit_id|subreddit_name_prefixed|subreddit_type|\n",
      "+--------+-----------------+--------------+------------------+-----------------------------+----------------------+---------------------+------------------------+-----------------+-----------------------+-----------------+---------------+--------------------+--------------------+--------+------------+---------+----------------+----------------+-----------+-------------+------+------+---------+-------+------------+---------+---------+----------+--------------------+--------------+------------+-----+------------+--------+-----------------+------------+-----------------------+--------------+\n",
      "|   false|      TistedLogic|          null|        1312615878|                         null|                  null|                   []|                    null|             null|                   null|             text|       t2_5mk6v|               false|Is it still r/Bon...|    true|       false|    false|            null|               0| 1538352000|         null| false|     0|[0, 0, 0]|e6xucdd|       false|t3_9ka1hp|     true|t1_e6xu13x|/r/Unexpected/com...|          null|  1539714091|    2|        true|   false|       Unexpected|    t5_2w67q|           r/Unexpected|        public|\n",
      "|   false| misssaladfingers|          null|        1536864574|                         null|                  null|                   []|                    null|             null|                   null|             text|    t2_27d914lh|               false|I've tried and it...|    true|       false|    false|            null|               0| 1538352000|         null| false|     0|[0, 0, 0]|e6xucde|       false|t3_9k8bp4|     true|t1_e6xu9sk|/r/insomnia/comme...|          null|  1539714091|    1|        true|   false|         insomnia|    t5_2qh3g|             r/insomnia|        public|\n",
      "|   false|Increase_Vitality|          null|        1467816973|                         null|                  null|                   []|                    null|             null|                   null|             text|       t2_zai83|               false|Hey that's great,...|    true|       false|    false|            null|               0| 1538352000|         null| false|     0|[0, 0, 0]|e6xucdf|       false|t3_9kaitz|    false| t3_9kaitz|/r/pics/comments/...|          null|  1539714091|   37|        true|   false|             pics|    t5_2qh0u|                 r/pics|        public|\n",
      "|   false|        volkanize|          null|        1531799209|                         null|                  null|                   []|                    null|             null|                   null|             text|    t2_1siqxwxg|               false|once a guy pulled...|    true|       false|    false|            null|               0| 1538352000|         null| false|     0|[0, 0, 0]|e6xucdg|       false|t3_9k6x53|     true| t3_9k6x53|/r/NoStupidQuesti...|          null|  1539714091|    1|        true|   false|NoStupidQuestions|    t5_2w844|    r/NoStupidQuestions|        public|\n",
      "|   false|        [deleted]|          null|              null|                             |                  null|                 null|                    null|             null|                   dark|             null|           null|                null|           [removed]|    true|       false|     true|            null|               0| 1538352000|         null| false|     0|[0, 0, 0]|e6xucdh|       false|t3_9jwg3k|     true|t1_e6xuarg|/r/steroids/comme...|          null|  1539714091|    1|        true|   false|         steroids|    t5_2rifm|             r/steroids|    restricted|\n",
      "+--------+-----------------+--------------+------------------+-----------------------------+----------------------+---------------------+------------------------+-----------------+-----------------------+-----------------+---------------+--------------------+--------------------+--------+------------+---------+----------------+----------------+-----------+-------------+------+------+---------+-------+------------+---------+---------+----------+--------------------+--------------+------------+-----+------------+--------+-----------------+------------+-----------------------+--------------+\n",
      "only showing top 5 rows\n",
      "\n"
     ]
    }
   ],
   "source": [
    "df.show(5)"
   ]
  },
  {
   "cell_type": "code",
   "execution_count": 7,
   "metadata": {},
   "outputs": [
    {
     "data": {
      "text/plain": [
       "DataFrame[author: string, author_fullname: string, body: string, controversiality: bigint, created_utc: bigint, edited: string, id: string, is_submitter: boolean, parent_id: string, score: bigint, subreddit: string, subreddit_id: string, subreddit_type: string]"
      ]
     },
     "execution_count": 7,
     "metadata": {},
     "output_type": "execute_result"
    }
   ],
   "source": [
    "#keep only variables potentially useful for analysis\n",
    "df=df.select(['author', 'author_fullname', 'body', 'controversiality','created_utc', 'edited',\n",
    "                'id', 'is_submitter', 'parent_id', 'score', 'subreddit', 'subreddit_id',\n",
    "               'subreddit_type'])\n",
    "df.cache()"
   ]
  },
  {
   "cell_type": "code",
   "execution_count": 10,
   "metadata": {},
   "outputs": [
    {
     "name": "stdout",
     "output_type": "stream",
     "text": [
      "+-----------------+---------------+--------------------+----------------+-----------+------+-------+------------+----------+-----+-----------------+------------+--------------+\n",
      "|           author|author_fullname|                body|controversiality|created_utc|edited|     id|is_submitter| parent_id|score|        subreddit|subreddit_id|subreddit_type|\n",
      "+-----------------+---------------+--------------------+----------------+-----------+------+-------+------------+----------+-----+-----------------+------------+--------------+\n",
      "|      TistedLogic|       t2_5mk6v|Is it still r/Bon...|               0| 1538352000| false|e6xucdd|       false|t1_e6xu13x|    2|       Unexpected|    t5_2w67q|        public|\n",
      "| misssaladfingers|    t2_27d914lh|I've tried and it...|               0| 1538352000| false|e6xucde|       false|t1_e6xu9sk|    1|         insomnia|    t5_2qh3g|        public|\n",
      "|Increase_Vitality|       t2_zai83|Hey that's great,...|               0| 1538352000| false|e6xucdf|       false| t3_9kaitz|   37|             pics|    t5_2qh0u|        public|\n",
      "|        volkanize|    t2_1siqxwxg|once a guy pulled...|               0| 1538352000| false|e6xucdg|       false| t3_9k6x53|    1|NoStupidQuestions|    t5_2w844|        public|\n",
      "|        [deleted]|           null|           [removed]|               0| 1538352000| false|e6xucdh|       false|t1_e6xuarg|    1|         steroids|    t5_2rifm|    restricted|\n",
      "+-----------------+---------------+--------------------+----------------+-----------+------+-------+------------+----------+-----+-----------------+------------+--------------+\n",
      "only showing top 5 rows\n",
      "\n"
     ]
    }
   ],
   "source": [
    "df.show(5)"
   ]
  },
  {
   "cell_type": "code",
   "execution_count": 11,
   "metadata": {},
   "outputs": [
    {
     "name": "stdout",
     "output_type": "stream",
     "text": [
      "root\n",
      " |-- author: string (nullable = true)\n",
      " |-- author_fullname: string (nullable = true)\n",
      " |-- body: string (nullable = true)\n",
      " |-- controversiality: long (nullable = true)\n",
      " |-- created_utc: long (nullable = true)\n",
      " |-- edited: string (nullable = true)\n",
      " |-- id: string (nullable = true)\n",
      " |-- is_submitter: boolean (nullable = true)\n",
      " |-- parent_id: string (nullable = true)\n",
      " |-- score: long (nullable = true)\n",
      " |-- subreddit: string (nullable = true)\n",
      " |-- subreddit_id: string (nullable = true)\n",
      " |-- subreddit_type: string (nullable = true)\n",
      "\n"
     ]
    }
   ],
   "source": [
    "#make sure each variable is in the appropriate format\n",
    "df.printSchema()"
   ]
  },
  {
   "cell_type": "code",
   "execution_count": 9,
   "metadata": {},
   "outputs": [
    {
     "data": {
      "text/plain": [
       "DataFrame[author: string, author_fullname: string, body: string, controversiality: bigint, edited: string, id: string, is_submitter: boolean, parent_id: string, score: bigint, subreddit: string, subreddit_id: string, subreddit_type: string, timeofday: int]"
      ]
     },
     "execution_count": 9,
     "metadata": {},
     "output_type": "execute_result"
    }
   ],
   "source": [
    "#convert utc time to hour of day\n",
    "from pyspark.sql.functions import from_unixtime, col, hour\n",
    "df=df.withColumn('timeofday', hour(from_unixtime(col(\"created_utc\"))))\n",
    "df=df.select(['author', 'author_fullname', 'body', 'controversiality','edited','id', 'is_submitter', 'parent_id',\n",
    "              'score', 'subreddit', 'subreddit_id','subreddit_type', 'timeofday'])\n",
    "df.cache()"
   ]
  },
  {
   "cell_type": "code",
   "execution_count": 13,
   "metadata": {},
   "outputs": [
    {
     "name": "stdout",
     "output_type": "stream",
     "text": [
      "+-----------------+---------------+--------------------+----------------+------+-------+------------+----------+-----+-----------------+------------+--------------+---------+\n",
      "|           author|author_fullname|                body|controversiality|edited|     id|is_submitter| parent_id|score|        subreddit|subreddit_id|subreddit_type|timeofday|\n",
      "+-----------------+---------------+--------------------+----------------+------+-------+------------+----------+-----+-----------------+------------+--------------+---------+\n",
      "|      TistedLogic|       t2_5mk6v|Is it still r/Bon...|               0| false|e6xucdd|       false|t1_e6xu13x|    2|       Unexpected|    t5_2w67q|        public|        0|\n",
      "| misssaladfingers|    t2_27d914lh|I've tried and it...|               0| false|e6xucde|       false|t1_e6xu9sk|    1|         insomnia|    t5_2qh3g|        public|        0|\n",
      "|Increase_Vitality|       t2_zai83|Hey that's great,...|               0| false|e6xucdf|       false| t3_9kaitz|   37|             pics|    t5_2qh0u|        public|        0|\n",
      "|        volkanize|    t2_1siqxwxg|once a guy pulled...|               0| false|e6xucdg|       false| t3_9k6x53|    1|NoStupidQuestions|    t5_2w844|        public|        0|\n",
      "|        [deleted]|           null|           [removed]|               0| false|e6xucdh|       false|t1_e6xuarg|    1|         steroids|    t5_2rifm|    restricted|        0|\n",
      "+-----------------+---------------+--------------------+----------------+------+-------+------------+----------+-----+-----------------+------------+--------------+---------+\n",
      "only showing top 5 rows\n",
      "\n"
     ]
    }
   ],
   "source": [
    "df.show(5)"
   ]
  },
  {
   "cell_type": "code",
   "execution_count": 9,
   "metadata": {},
   "outputs": [
    {
     "name": "stdout",
     "output_type": "stream",
     "text": [
      "+-----------------+--------------------+-------+----------------+---------+-----+---------+---------+\n",
      "|           author|                body|     id|controversiality|parent_id|score|subreddit|timeofday|\n",
      "+-----------------+--------------------+-------+----------------+---------+-----+---------+---------+\n",
      "|        Jombafomb|Everyone has a st...|ea0e1zl|               0|t3_9yc7op|90192|AskReddit|        2|\n",
      "|  realFraaErasmas|It must be true t...|eag0jr0|               0|t3_a0a4cd|85296|AskReddit|       17|\n",
      "|         ckernan2|Retirement is not...|eclf2y2|               0|t3_a9oqxi|81970|AskReddit|       16|\n",
      "|      JavaOrlando|I worked security...|ecvushv|               0|t3_aawsbz|70644|AskReddit|       17|\n",
      "|    BigManRunning|Coal was a basic ...|ecgu6cl|               0|t3_a94beh|68169|AskReddit|       17|\n",
      "|     bboy_samsung|Dating this girl ...|e7066jd|               0|t3_9kkr90|66595|AskReddit|        1|\n",
      "|     MamaBear4485|Years ago my then...|efacnxl|               0|t3_al2zw8|65850|AskReddit|       19|\n",
      "|        WyattCado|A private once to...|e7vouu7|               0|t3_9onr9e|65622|AskReddit|       17|\n",
      "|AuditorOfTheNight|The sound of my o...|e848til|               0|t3_9ptyom|65054|AskReddit|       13|\n",
      "|         tomhomas|How do you have b...|eecofz6|               0|t3_aha3d8|64550|  RoastMe|       13|\n",
      "+-----------------+--------------------+-------+----------------+---------+-----+---------+---------+\n",
      "only showing top 10 rows\n",
      "\n"
     ]
    }
   ],
   "source": [
    "#look at top scoring comments\n",
    "from pyspark.sql.functions import desc\n",
    "df.select(['author', 'body', 'id', 'controversiality', 'parent_id', 'score', 'subreddit', \n",
    "           'timeofday']).orderBy(desc('score')).show(10)"
   ]
  },
  {
   "cell_type": "markdown",
   "metadata": {},
   "source": [
    "For reference, UTC time is four hours ahead of the Eastern Time district. So if we base our analysis on that, all of 10 highest scoring comments were posted across a variety of times."
   ]
  },
  {
   "cell_type": "code",
   "execution_count": 15,
   "metadata": {},
   "outputs": [
    {
     "name": "stdout",
     "output_type": "stream",
     "text": [
      "+--------------------+--------+\n",
      "|              author|   count|\n",
      "+--------------------+--------+\n",
      "|           [deleted]|42737313|\n",
      "|       AutoModerator| 5222586|\n",
      "|    MemeInvestor_bot|  307896|\n",
      "|         transcribot|  269443|\n",
      "|KeepingDankMemesDank|  222801|\n",
      "|transcribersofreddit|  198197|\n",
      "| NFCAAOfficialRefBot|  136902|\n",
      "|      MTGCardFetcher|  130178|\n",
      "|          vokoxazara|  126528|\n",
      "|       imguralbumbot|  114199|\n",
      "|          mediapedia|   99348|\n",
      "|CommonMisspellingBot|   92196|\n",
      "|      TotesMessenger|   87903|\n",
      "|         Marketron-I|   87577|\n",
      "|        SnapshillBot|   72432|\n",
      "|          GVHFYTRTGH|   70857|\n",
      "|        sneakpeekbot|   70822|\n",
      "|           ManyYoung|   67701|\n",
      "|         WikiTextBot|   61143|\n",
      "|         request_bot|   60551|\n",
      "+--------------------+--------+\n",
      "only showing top 20 rows\n",
      "\n"
     ]
    }
   ],
   "source": [
    "df.groupBy('author').count().orderBy(desc('count')).show()"
   ]
  },
  {
   "cell_type": "markdown",
   "metadata": {},
   "source": [
    "Comments that have been deleted appear to be skewing our data, considering they are all grouped together as an author named \"[deleted]\". Because this will affect later correlations and prediction models, the rows must be deleted, even though this will remove the highest scoring comment as scene above."
   ]
  },
  {
   "cell_type": "markdown",
   "metadata": {},
   "source": [
    "In later analysis, the data will be used to predict author from the text body. However, this produces a challenge in that the text body makes up a large portion of the size of the dataframe and requires a lot of memory to be kept, and more importantly too large of a pool of authors that may have very few comments will overwhelm the attribution model. Therefore, the dataframe is scaled down to a modest 20 authors for ease of analysis."
   ]
  },
  {
   "cell_type": "code",
   "execution_count": 11,
   "metadata": {},
   "outputs": [
    {
     "name": "stdout",
     "output_type": "stream",
     "text": [
      "+--------------------+-------+\n",
      "|              author|  count|\n",
      "+--------------------+-------+\n",
      "|       AutoModerator|5222586|\n",
      "|    MemeInvestor_bot| 307896|\n",
      "|         transcribot| 269443|\n",
      "|KeepingDankMemesDank| 222801|\n",
      "|transcribersofreddit| 198197|\n",
      "| NFCAAOfficialRefBot| 136902|\n",
      "|      MTGCardFetcher| 130178|\n",
      "|          vokoxazara| 126528|\n",
      "|       imguralbumbot| 114199|\n",
      "|          mediapedia|  99348|\n",
      "|CommonMisspellingBot|  92196|\n",
      "|      TotesMessenger|  87903|\n",
      "|         Marketron-I|  87577|\n",
      "|        SnapshillBot|  72432|\n",
      "|          GVHFYTRTGH|  70857|\n",
      "|        sneakpeekbot|  70822|\n",
      "|           ManyYoung|  67701|\n",
      "|         WikiTextBot|  61143|\n",
      "|         request_bot|  60551|\n",
      "|        timezone_bot|  59992|\n",
      "|              BooCMB|  54556|\n",
      "|              hwsbot|  54190|\n",
      "|          Bot_Metric|  53829|\n",
      "|ComeOnMisspellingBot|  53230|\n",
      "|    ClickableLinkBot|  52534|\n",
      "|    GarlicoinAccount|  50695|\n",
      "|        KansasCity8D|  50129|\n",
      "|         RemindMeBot|  46373|\n",
      "|            Roboragi|  46107|\n",
      "|              xumaes|  41588|\n",
      "|    RespondsWithFBot|  37538|\n",
      "|           SteamKiwi|  37222|\n",
      "|              swack_|  33422|\n",
      "|        CummyBot2000|  32986|\n",
      "|            gifv-bot|  32636|\n",
      "|        spacesoulboi|  32198|\n",
      "|         LocationBot|  31213|\n",
      "|      FlairHelperBot|  31122|\n",
      "|        anti-gif-bot|  30760|\n",
      "|            LoansBot|  30305|\n",
      "|The-Paranoid-Android|  29718|\n",
      "|             B0tRank|  28987|\n",
      "|        Bot_On_Meth4|  28040|\n",
      "|       MAGIC_EYE_BOT|  27335|\n",
      "|       THE_MAGIC_EYE|  26739|\n",
      "|            autotldr|  26607|\n",
      "|         Bot_On_Meth|  26234|\n",
      "|       WhatIsThisBot|  26001|\n",
      "|    InevitableRow789|  25790|\n",
      "|     TiltedTowersBot|  25298|\n",
      "+--------------------+-------+\n",
      "only showing top 50 rows\n",
      "\n"
     ]
    }
   ],
   "source": [
    "#scale down number of authors to make author attribution feasible\n",
    "from pyspark.sql.functions import desc\n",
    "df=df.filter(df.author != '[deleted]')\n",
    "df.groupBy('author').count().orderBy(desc('count')).show(50)"
   ]
  },
  {
   "cell_type": "code",
   "execution_count": 13,
   "metadata": {},
   "outputs": [],
   "source": [
    "authors=['KeepingDankMemesDank','MTGCardFetcher', 'vokoxazara', 'mediapedia', 'TotesMessenger', 'Marketron-I', \n",
    "         'GVHFYTRTGH', 'ManyYoung', 'BooCMB', 'GarlicoinAccount', 'KansasCity8D', 'Roboragi', 'xumaes', 'SteamKiwi',\n",
    "        'swack_']"
   ]
  },
  {
   "cell_type": "markdown",
   "metadata": {},
   "source": [
    "We can see by again calling the top authors that deleted comments have indeed been removed from our dataframe.\n",
    "\n",
    "In later analysis, the data will be used to predict author from the text body. However, this produces a challenge in that the text body makes up a large portion of the size of the dataframe and requires a lot of memory to be kept, and more importantly too large of a pool of authors that may have very few comments will overwhelm the attribution model. Therefore, the dataframe is scaled down to a modest 15 authors for ease of analysis. In an attempt to isolate the human data, authors whose names include 'bot' or 'auto' are removed. "
   ]
  },
  {
   "cell_type": "code",
   "execution_count": 14,
   "metadata": {},
   "outputs": [
    {
     "data": {
      "text/plain": [
       "DataFrame[author: string, author_fullname: string, body: string, controversiality: bigint, edited: string, id: string, is_submitter: boolean, parent_id: string, score: bigint, subreddit: string, subreddit_id: string, subreddit_type: string, timeofday: int]"
      ]
     },
     "execution_count": 14,
     "metadata": {},
     "output_type": "execute_result"
    }
   ],
   "source": [
    "df=df.filter(df.author.isin(authors))\n",
    "df.cache()"
   ]
  },
  {
   "cell_type": "code",
   "execution_count": 16,
   "metadata": {},
   "outputs": [
    {
     "name": "stdout",
     "output_type": "stream",
     "text": [
      "+--------------------+------+\n",
      "|           subreddit| count|\n",
      "+--------------------+------+\n",
      "|           dankmemes|222822|\n",
      "|      NFLLivekStream|126527|\n",
      "|  testingground4bots| 99350|\n",
      "|            Market76| 87596|\n",
      "|        feludasports| 51565|\n",
      "|            counting| 48932|\n",
      "|                 EDH| 44807|\n",
      "|            RealInfo| 40155|\n",
      "|           SteamKiwi| 37170|\n",
      "|      sports4kstream| 36127|\n",
      "|            magicTCG| 34457|\n",
      "|                CxTV| 31762|\n",
      "|                mxtv| 30702|\n",
      "|         FreeKarma4U| 28978|\n",
      "|          MagicArena| 23042|\n",
      "|       FreeKarma4You| 20430|\n",
      "|        Animesuggest| 14691|\n",
      "|            Animemes| 10537|\n",
      "|           macysfree|  9993|\n",
      "|               manga|  8573|\n",
      "|           anime_irl|  8025|\n",
      "|         custommagic|  7373|\n",
      "|      UFC231Live4kTv|  5462|\n",
      "|         ModernMagic|  4658|\n",
      "|   Magicdeckbuilding|  2895|\n",
      "|falcons_vs_saints...|  2742|\n",
      "|              Pauper|  2730|\n",
      "|              spikes|  2429|\n",
      "|RedskinsvsCowboys...|  2277|\n",
      "|       wholesomeyuri|  1658|\n",
      "+--------------------+------+\n",
      "only showing top 30 rows\n",
      "\n"
     ]
    }
   ],
   "source": [
    "df.groupBy('subreddit').count().orderBy(desc('count')).show(30)"
   ]
  },
  {
   "cell_type": "markdown",
   "metadata": {},
   "source": [
    "To further tailor our dataset, we will select 15 of the top 20 subreddits across a variety of topics, so that the text content for the attribution model will not be too specific to any one given topic. For the sake of analyzing human behavior specifically, we will leave out the subreddit 'testingground4bots'. "
   ]
  },
  {
   "cell_type": "code",
   "execution_count": 17,
   "metadata": {},
   "outputs": [
    {
     "data": {
      "text/plain": [
       "DataFrame[author: string, author_fullname: string, body: string, controversiality: bigint, edited: string, id: string, is_submitter: boolean, parent_id: string, score: bigint, subreddit: string, subreddit_id: string, subreddit_type: string, timeofday: int]"
      ]
     },
     "execution_count": 17,
     "metadata": {},
     "output_type": "execute_result"
    }
   ],
   "source": [
    "subreddits=['dankmemes', 'NFLLivekStream', 'Market76', 'feludasports', 'counting', 'EDH', 'RealInfo', 'SteamKiwi',\n",
    "           'magicTCG', 'CxTV', 'FreeKarma4You', 'Animesuggest', 'Animemes', 'macysfree', 'manga'] \n",
    "df=df.filter(df.subreddit.isin(subreddits))\n",
    "df.cache()"
   ]
  },
  {
   "cell_type": "code",
   "execution_count": 18,
   "metadata": {},
   "outputs": [],
   "source": [
    "# make indices for each categorical variable so correlations can be computed\n",
    "# string indexer assigns indices by frequency, with index 0 as the highest frequency value\n",
    "# the variables created by these StringIndexers will also be used to create models later\n",
    "from pyspark.ml.feature import StringIndexer\n",
    "from pyspark.ml import Pipeline\n",
    "\n",
    "subreddit_indexer = StringIndexer(inputCol=\"subreddit\", outputCol=\"subredditindex\")\n",
    "\n",
    "author_indexer = StringIndexer(inputCol=\"author\", outputCol=\"authorindex\")\n",
    "\n",
    "parent_indexer = StringIndexer(inputCol=\"parent_id\", outputCol=\"parentindex\")\n",
    "\n",
    "pipeline = Pipeline(stages=[subreddit_indexer, author_indexer, parent_indexer])\n",
    "df=pipeline.fit(df).transform(df)"
   ]
  },
  {
   "cell_type": "code",
   "execution_count": 19,
   "metadata": {},
   "outputs": [
    {
     "name": "stdout",
     "output_type": "stream",
     "text": [
      "+--------------------+---------------+--------------------+----------------+------+-------+------------+---------+-----+---------+------------+--------------+---------+--------------+-----------+-----------+\n",
      "|              author|author_fullname|                body|controversiality|edited|     id|is_submitter|parent_id|score|subreddit|subreddit_id|subreddit_type|timeofday|subredditindex|authorindex|parentindex|\n",
      "+--------------------+---------------+--------------------+----------------+------+-------+------------+---------+-----+---------+------------+--------------+---------+--------------+-----------+-----------+\n",
      "|KeepingDankMemesDank|     t2_ztrw2k9| If this is a dan...|               0| false|e6xucnr|       false|t3_9kbc60|    1|dankmemes|    t5_2zmfe|        public|        0|           0.0|        0.0|    79649.0|\n",
      "|KeepingDankMemesDank|     t2_ztrw2k9| If this is a dan...|               0| false|e6xud1o|       false|t3_9kbc5k|    1|dankmemes|    t5_2zmfe|        public|        0|           0.0|        0.0|   224879.0|\n",
      "|KeepingDankMemesDank|     t2_ztrw2k9| If this is a dan...|               0| false|e6xudem|       false|t3_9kbc1p|    1|dankmemes|    t5_2zmfe|        public|        0|           0.0|        0.0|   506552.0|\n",
      "|KeepingDankMemesDank|     t2_ztrw2k9| If this is a dan...|               0| false|e6xudqv|       false|t3_9kbbsk|    1|dankmemes|    t5_2zmfe|        public|        0|           0.0|        0.0|    60437.0|\n",
      "|KeepingDankMemesDank|     t2_ztrw2k9| If this is a dan...|               0| false|e6xudx8|       false|t3_9kbbhw|    1|dankmemes|    t5_2zmfe|        public|        0|           0.0|        0.0|   381964.0|\n",
      "+--------------------+---------------+--------------------+----------------+------+-------+------------+---------+-----+---------+------------+--------------+---------+--------------+-----------+-----------+\n",
      "only showing top 5 rows\n",
      "\n"
     ]
    }
   ],
   "source": [
    "df.show(5)"
   ]
  },
  {
   "cell_type": "code",
   "execution_count": 20,
   "metadata": {},
   "outputs": [],
   "source": [
    "df=df.select(['authorindex', 'body', 'subredditindex', 'parentindex', 'controversiality', \n",
    "              'score', 'timeofday'])"
   ]
  },
  {
   "cell_type": "code",
   "execution_count": 21,
   "metadata": {},
   "outputs": [],
   "source": [
    "#save df to parquet file in hdfs for use in predictive analyses\n",
    "df.write.parquet(\"df\")"
   ]
  },
  {
   "cell_type": "code",
   "execution_count": 22,
   "metadata": {},
   "outputs": [],
   "source": [
    "#subset variables to use to make plots\n",
    "from pyspark.sql.types import IntegerType\n",
    "df=df.select(['authorindex', 'subredditindex', 'parentindex', 'controversiality', 'score'])\n",
    "str(df)\n",
    "#convert to integers instead of doubles/bigints\n",
    "df=df.withColumn('authorindex', col('authorindex').cast(IntegerType()))\n",
    "df=df.withColumn('subredditindex', col('subredditindex').cast(IntegerType()))\n",
    "df=df.withColumn('parentindex', col('parentindex').cast(IntegerType()))\n",
    "df=df.withColumn('controversiality', col('controversiality').cast(IntegerType()))\n",
    "df=df.withColumn('score', col('score').cast(IntegerType()))"
   ]
  },
  {
   "cell_type": "code",
   "execution_count": 23,
   "metadata": {},
   "outputs": [
    {
     "data": {
      "text/plain": [
       "'DataFrame[authorindex: int, subredditindex: int, parentindex: int, controversiality: int, score: int]'"
      ]
     },
     "execution_count": 23,
     "metadata": {},
     "output_type": "execute_result"
    }
   ],
   "source": [
    "str(df)"
   ]
  },
  {
   "cell_type": "code",
   "execution_count": 24,
   "metadata": {},
   "outputs": [],
   "source": [
    "#write dataframe to a csv file\n",
    "df.write.csv('redditcomments.csv')"
   ]
  },
  {
   "cell_type": "code",
   "execution_count": 25,
   "metadata": {},
   "outputs": [],
   "source": [
    "#from command line merge parts of csv from hdfs and add to repository for use\n",
    "#code: hadoop fs -getmerge hdfs://ip-172-31-74-188.ec2.internal:8020/user/hadoop/redditcomments.csv redditcomments.csv\n",
    "import pandas as pd\n",
    "df=pd.read_csv(\"redditcomments.csv\", dtype = int, names=['authorindex', 'subredditindex', \n",
    "                                            'parentindex', 'controversiality', 'score'])"
   ]
  },
  {
   "cell_type": "code",
   "execution_count": 26,
   "metadata": {},
   "outputs": [
    {
     "data": {
      "text/html": [
       "<div>\n",
       "<style scoped>\n",
       "    .dataframe tbody tr th:only-of-type {\n",
       "        vertical-align: middle;\n",
       "    }\n",
       "\n",
       "    .dataframe tbody tr th {\n",
       "        vertical-align: top;\n",
       "    }\n",
       "\n",
       "    .dataframe thead th {\n",
       "        text-align: right;\n",
       "    }\n",
       "</style>\n",
       "<table border=\"1\" class=\"dataframe\">\n",
       "  <thead>\n",
       "    <tr style=\"text-align: right;\">\n",
       "      <th></th>\n",
       "      <th>authorindex</th>\n",
       "      <th>subredditindex</th>\n",
       "      <th>parentindex</th>\n",
       "      <th>controversiality</th>\n",
       "      <th>score</th>\n",
       "    </tr>\n",
       "  </thead>\n",
       "  <tbody>\n",
       "    <tr>\n",
       "      <th>authorindex</th>\n",
       "      <td>1.000000</td>\n",
       "      <td>0.882883</td>\n",
       "      <td>0.030029</td>\n",
       "      <td>-0.081039</td>\n",
       "      <td>0.037111</td>\n",
       "    </tr>\n",
       "    <tr>\n",
       "      <th>subredditindex</th>\n",
       "      <td>0.882883</td>\n",
       "      <td>1.000000</td>\n",
       "      <td>0.063482</td>\n",
       "      <td>-0.076107</td>\n",
       "      <td>0.047662</td>\n",
       "    </tr>\n",
       "    <tr>\n",
       "      <th>parentindex</th>\n",
       "      <td>0.030029</td>\n",
       "      <td>0.063482</td>\n",
       "      <td>1.000000</td>\n",
       "      <td>0.036556</td>\n",
       "      <td>0.027781</td>\n",
       "    </tr>\n",
       "    <tr>\n",
       "      <th>controversiality</th>\n",
       "      <td>-0.081039</td>\n",
       "      <td>-0.076107</td>\n",
       "      <td>0.036556</td>\n",
       "      <td>1.000000</td>\n",
       "      <td>-0.004703</td>\n",
       "    </tr>\n",
       "    <tr>\n",
       "      <th>score</th>\n",
       "      <td>0.037111</td>\n",
       "      <td>0.047662</td>\n",
       "      <td>0.027781</td>\n",
       "      <td>-0.004703</td>\n",
       "      <td>1.000000</td>\n",
       "    </tr>\n",
       "  </tbody>\n",
       "</table>\n",
       "</div>"
      ],
      "text/plain": [
       "                  authorindex  subredditindex  parentindex  controversiality  \\\n",
       "authorindex          1.000000        0.882883     0.030029         -0.081039   \n",
       "subredditindex       0.882883        1.000000     0.063482         -0.076107   \n",
       "parentindex          0.030029        0.063482     1.000000          0.036556   \n",
       "controversiality    -0.081039       -0.076107     0.036556          1.000000   \n",
       "score                0.037111        0.047662     0.027781         -0.004703   \n",
       "\n",
       "                     score  \n",
       "authorindex       0.037111  \n",
       "subredditindex    0.047662  \n",
       "parentindex       0.027781  \n",
       "controversiality -0.004703  \n",
       "score             1.000000  "
      ]
     },
     "execution_count": 26,
     "metadata": {},
     "output_type": "execute_result"
    }
   ],
   "source": [
    "df.corr(method = 'pearson')"
   ]
  },
  {
   "cell_type": "markdown",
   "metadata": {},
   "source": [
    "Out of all of the variables, the only two that appear to have a relationship according to their correlation are authorindex and subredditindex."
   ]
  },
  {
   "cell_type": "code",
   "execution_count": 36,
   "metadata": {},
   "outputs": [
    {
     "data": {
      "text/plain": [
       "<matplotlib.axes._subplots.AxesSubplot at 0x7f67ffedb278>"
      ]
     },
     "execution_count": 36,
     "metadata": {},
     "output_type": "execute_result"
    },
    {
     "data": {
      "image/png": "[encoded data removed]",
      "text/plain": [
       "<Figure size 432x288 with 1 Axes>"
      ]
     },
     "metadata": {
      "needs_background": "light"
     },
     "output_type": "display_data"
    }
   ],
   "source": [
    "df.plot.scatter('authorindex', 'score')"
   ]
  },
  {
   "cell_type": "markdown",
   "metadata": {},
   "source": [
    "Scores appear to cluster around zero, with what appear to be relationships between certain authors and high scoring comments."
   ]
  },
  {
   "cell_type": "code",
   "execution_count": 28,
   "metadata": {},
   "outputs": [
    {
     "data": {
      "text/plain": [
       "<matplotlib.axes._subplots.AxesSubplot at 0x7f68001a0e80>"
      ]
     },
     "execution_count": 28,
     "metadata": {},
     "output_type": "execute_result"
    },
    {
     "data": {
      "image/png": "[encoded data removed]",
      "text/plain": [
       "<Figure size 432x288 with 1 Axes>"
      ]
     },
     "metadata": {
      "needs_background": "light"
     },
     "output_type": "display_data"
    }
   ],
   "source": [
    "df.plot.scatter('parentindex', 'score')"
   ]
  },
  {
   "cell_type": "markdown",
   "metadata": {},
   "source": [
    "Scores for parent indices appear to be randomly distributed and clustered around zero, with high scores appearing as potential outliers."
   ]
  },
  {
   "cell_type": "code",
   "execution_count": 29,
   "metadata": {},
   "outputs": [
    {
     "data": {
      "text/plain": [
       "<matplotlib.axes._subplots.AxesSubplot at 0x7f68001046d8>"
      ]
     },
     "execution_count": 29,
     "metadata": {},
     "output_type": "execute_result"
    },
    {
     "data": {
      "image/png": "[encoded data removed]",
      "text/plain": [
       "<Figure size 432x288 with 1 Axes>"
      ]
     },
     "metadata": {
      "needs_background": "light"
     },
     "output_type": "display_data"
    }
   ],
   "source": [
    "df.plot.scatter('subredditindex', 'score')"
   ]
  },
  {
   "cell_type": "markdown",
   "metadata": {},
   "source": [
    "Scores based on subreddit seem to vary widely depending on the index, with indices 0, 8, and 12 appearing to have very high scores as well as large ranges."
   ]
  },
  {
   "cell_type": "code",
   "execution_count": 30,
   "metadata": {},
   "outputs": [
    {
     "data": {
      "text/plain": [
       "<matplotlib.axes._subplots.AxesSubplot at 0x7f6800078588>"
      ]
     },
     "execution_count": 30,
     "metadata": {},
     "output_type": "execute_result"
    },
    {
     "data": {
      "image/png": "[encoded data removed]",
      "text/plain": [
       "<Figure size 432x288 with 1 Axes>"
      ]
     },
     "metadata": {
      "needs_background": "light"
     },
     "output_type": "display_data"
    }
   ],
   "source": [
    "df.plot.scatter(\"authorindex\", \"parentindex\")"
   ]
  },
  {
   "cell_type": "markdown",
   "metadata": {},
   "source": [
    "The author at index 6 appears to only post to one parent thread, while the majority of the others seem evenly distributed. 4 and 1 also appear sparser. "
   ]
  },
  {
   "cell_type": "code",
   "execution_count": 31,
   "metadata": {},
   "outputs": [
    {
     "data": {
      "text/plain": [
       "<matplotlib.axes._subplots.AxesSubplot at 0x7f68000611d0>"
      ]
     },
     "execution_count": 31,
     "metadata": {},
     "output_type": "execute_result"
    },
    {
     "data": {
      "image/png": "[encoded data removed]",
      "text/plain": [
       "<Figure size 432x288 with 1 Axes>"
      ]
     },
     "metadata": {
      "needs_background": "light"
     },
     "output_type": "display_data"
    }
   ],
   "source": [
    "df.plot.scatter(\"score\", \"controversiality\")"
   ]
  },
  {
   "cell_type": "markdown",
   "metadata": {},
   "source": [
    "Controversial comments appear to have lower scores, but still a range of scores between a little less than 0 and 200."
   ]
  },
  {
   "cell_type": "code",
   "execution_count": 32,
   "metadata": {},
   "outputs": [
    {
     "data": {
      "text/plain": [
       "<matplotlib.axes._subplots.AxesSubplot at 0x7f67fffc9240>"
      ]
     },
     "execution_count": 32,
     "metadata": {},
     "output_type": "execute_result"
    },
    {
     "data": {
      "image/png": "[encoded data removed]",
      "text/plain": [
       "<Figure size 432x288 with 1 Axes>"
      ]
     },
     "metadata": {
      "needs_background": "light"
     },
     "output_type": "display_data"
    }
   ],
   "source": [
    "df.plot.scatter(\"authorindex\", \"controversiality\")"
   ]
  },
  {
   "cell_type": "markdown",
   "metadata": {},
   "source": [
    "It appears that less than half of the authors have comments that are controversial, but the distribution of comments for these authors is unclear."
   ]
  },
  {
   "cell_type": "code",
   "execution_count": 33,
   "metadata": {},
   "outputs": [
    {
     "data": {
      "text/plain": [
       "<matplotlib.axes._subplots.AxesSubplot at 0x7f67fff2bd68>"
      ]
     },
     "execution_count": 33,
     "metadata": {},
     "output_type": "execute_result"
    },
    {
     "data": {
      "image/png": "[encoded data removed]",
      "text/plain": [
       "<Figure size 432x288 with 1 Axes>"
      ]
     },
     "metadata": {
      "needs_background": "light"
     },
     "output_type": "display_data"
    }
   ],
   "source": [
    "df.plot.scatter(\"parentindex\", \"controversiality\")"
   ]
  },
  {
   "cell_type": "markdown",
   "metadata": {},
   "source": [
    "There appears to be no relationship between the parent index of a comment and whether it is controversial or not."
   ]
  },
  {
   "cell_type": "code",
   "execution_count": 34,
   "metadata": {},
   "outputs": [
    {
     "data": {
      "text/plain": [
       "<matplotlib.axes._subplots.AxesSubplot at 0x7f67fff0a908>"
      ]
     },
     "execution_count": 34,
     "metadata": {},
     "output_type": "execute_result"
    },
    {
     "data": {
      "image/png": "[encoded data removed]",
      "text/plain": [
       "<Figure size 432x288 with 1 Axes>"
      ]
     },
     "metadata": {
      "needs_background": "light"
     },
     "output_type": "display_data"
    }
   ],
   "source": [
    "df.plot.scatter(\"subredditindex\", \"controversiality\")"
   ]
  },
  {
   "cell_type": "markdown",
   "metadata": {},
   "source": [
    "While 5 of the 15 subreddits appear to have both controversial and non-controversial posts--while the others only have non-controversial--the distribution between controversial and non-controversial is unclear."
   ]
  },
  {
   "cell_type": "code",
   "execution_count": 35,
   "metadata": {},
   "outputs": [
    {
     "data": {
      "text/plain": [
       "<matplotlib.axes._subplots.AxesSubplot at 0x7f67ffef22e8>"
      ]
     },
     "execution_count": 35,
     "metadata": {},
     "output_type": "execute_result"
    },
    {
     "data": {
      "image/png": "[encoded data removed]",
      "text/plain": [
       "<Figure size 432x288 with 1 Axes>"
      ]
     },
     "metadata": {
      "needs_background": "light"
     },
     "output_type": "display_data"
    }
   ],
   "source": [
    "df.plot.scatter(\"authorindex\", \"subredditindex\")"
   ]
  },
  {
   "cell_type": "markdown",
   "metadata": {},
   "source": [
    "There does appear to be a relationship between author index and subreddit index. Although the author at index 11 does appear to have comments across all subreddits."
   ]
  },
  {
   "cell_type": "code",
   "execution_count": null,
   "metadata": {},
   "outputs": [],
   "source": [
    "spark.stop()"
   ]
  }
 ],
 "metadata": {
  "kernelspec": {
   "display_name": "Python 3",
   "language": "python",
   "name": "python3"
  },
  "language_info": {
   "codemirror_mode": {
    "name": "ipython",
    "version": 3
   },
   "file_extension": ".py",
   "mimetype": "text/x-python",
   "name": "python",
   "nbconvert_exporter": "python",
   "pygments_lexer": "ipython3",
   "version": "3.6.5"
  }
 },
 "nbformat": 4,
 "nbformat_minor": 2
}
